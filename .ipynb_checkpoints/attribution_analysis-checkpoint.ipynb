{
 "cells": [
  {
   "cell_type": "code",
   "execution_count": 681,
   "metadata": {},
   "outputs": [],
   "source": [
    "import pandas as pd"
   ]
  },
  {
   "cell_type": "code",
   "execution_count": 682,
   "metadata": {},
   "outputs": [],
   "source": [
    "df = pd.read_csv('downloads/attribution_exercise/attribution_exercise1.csv')"
   ]
  },
  {
   "cell_type": "code",
   "execution_count": 683,
   "metadata": {},
   "outputs": [
    {
     "data": {
      "text/plain": [
       "<bound method NDFrame.head of                                       UUID TYPE TIMESTAMP_IL  Unnamed: 3  \\\n",
       "0     6070310f-2f32-4216-adc4-0c0c9032305b   IL     01/03/21         NaN   \n",
       "1     4e7707af-1b19-431c-bbf2-2c2bd1473746   IL     01/03/21         NaN   \n",
       "2     9ff22964-fc4d-4841-be86-513325dec74e   IL     01/03/21         NaN   \n",
       "3     d8d42c96-b2b5-4169-bf2b-5b796513a374   IL     01/03/21         NaN   \n",
       "4     8fbeae93-7147-4432-a975-ec31ddc6ef1c   IL     01/03/21         NaN   \n",
       "...                                    ...  ...          ...         ...   \n",
       "4394  0f19966d-9389-426d-8b36-499390e44bc5   IL     06/05/21         NaN   \n",
       "4395  f40a5b7e-1e0a-40bb-9dd6-caadaa0defbd   IL     06/05/21         NaN   \n",
       "4396  d340f32a-12e9-4f8c-b4af-84782a453eb7   IL     06/05/21         NaN   \n",
       "4397  5dc47c50-b94d-43bc-bcf3-e5d10e8ca021   CL     06/05/21         NaN   \n",
       "4398  6cf47249-b2f4-47f5-8ef3-bb41ce593ca9   IL     06/05/21         NaN   \n",
       "\n",
       "     TIMESTAMP_CL TOUCH_TIMESTAMP CHANNEL_COLOUR  POT_INDEX IL_CL_SPEED  \\\n",
       "0             NaN             NaN            NaN        NaN         NaN   \n",
       "1             NaN             NaN            NaN        NaN         NaN   \n",
       "2             NaN             NaN            NaN        NaN         NaN   \n",
       "3             NaN             NaN            NaN        NaN         NaN   \n",
       "4             NaN             NaN            NaN        NaN         NaN   \n",
       "...           ...             ...            ...        ...         ...   \n",
       "4394          NaN             NaN            NaN        NaN         NaN   \n",
       "4395          NaN             NaN            NaN        NaN         NaN   \n",
       "4396          NaN             NaN            NaN        NaN         NaN   \n",
       "4397     06/05/21        06/05/21         violet        NaN    00:01:31   \n",
       "4398          NaN             NaN            NaN        NaN         NaN   \n",
       "\n",
       "     LAST_TOUCH_SPEED  \n",
       "0                 NaN  \n",
       "1                 NaN  \n",
       "2                 NaN  \n",
       "3                 NaN  \n",
       "4                 NaN  \n",
       "...               ...  \n",
       "4394              NaN  \n",
       "4395              NaN  \n",
       "4396              NaN  \n",
       "4397         00:01:49  \n",
       "4398              NaN  \n",
       "\n",
       "[4399 rows x 10 columns]>"
      ]
     },
     "execution_count": 683,
     "metadata": {},
     "output_type": "execute_result"
    }
   ],
   "source": [
    "df.head\n"
   ]
  },
  {
   "cell_type": "code",
   "execution_count": 684,
   "metadata": {},
   "outputs": [
    {
     "data": {
      "text/plain": [
       "UUID                 object\n",
       "TYPE                 object\n",
       "TIMESTAMP_IL         object\n",
       "Unnamed: 3          float64\n",
       "TIMESTAMP_CL         object\n",
       "TOUCH_TIMESTAMP      object\n",
       "CHANNEL_COLOUR       object\n",
       "POT_INDEX           float64\n",
       "IL_CL_SPEED          object\n",
       "LAST_TOUCH_SPEED     object\n",
       "dtype: object"
      ]
     },
     "execution_count": 684,
     "metadata": {},
     "output_type": "execute_result"
    }
   ],
   "source": [
    "df.dtypes"
   ]
  },
  {
   "cell_type": "code",
   "execution_count": 685,
   "metadata": {},
   "outputs": [],
   "source": [
    "df['TIMESTAMP_IL'] = pd.to_datetime(df['TIMESTAMP_IL'])"
   ]
  },
  {
   "cell_type": "code",
   "execution_count": 686,
   "metadata": {},
   "outputs": [],
   "source": [
    "df['TOUCH_TIMESTAMP'] = pd.to_datetime(df['TOUCH_TIMESTAMP'])\n",
    "df['TIMESTAMP_CL'] = pd.to_datetime(df['TIMESTAMP_CL'])"
   ]
  },
  {
   "cell_type": "code",
   "execution_count": 687,
   "metadata": {},
   "outputs": [],
   "source": [
    "df['IL_CL_SPEED'] = pd.to_timedelta(df['IL_CL_SPEED']).astype('timedelta64[s]')\n"
   ]
  },
  {
   "cell_type": "code",
   "execution_count": 688,
   "metadata": {},
   "outputs": [],
   "source": [
    "df['LAST_TOUCH_SPEED'] = pd.to_timedelta(df['LAST_TOUCH_SPEED']).astype('timedelta64[s]')\n"
   ]
  },
  {
   "cell_type": "code",
   "execution_count": 689,
   "metadata": {},
   "outputs": [],
   "source": [
    "channel_sum = df.groupby(['CHANNEL_COLOUR'])['POT_INDEX'].agg('sum').reset_index()"
   ]
  },
  {
   "cell_type": "code",
   "execution_count": 690,
   "metadata": {},
   "outputs": [
    {
     "data": {
      "text/html": [
       "<div>\n",
       "<style scoped>\n",
       "    .dataframe tbody tr th:only-of-type {\n",
       "        vertical-align: middle;\n",
       "    }\n",
       "\n",
       "    .dataframe tbody tr th {\n",
       "        vertical-align: top;\n",
       "    }\n",
       "\n",
       "    .dataframe thead th {\n",
       "        text-align: right;\n",
       "    }\n",
       "</style>\n",
       "<table border=\"1\" class=\"dataframe\">\n",
       "  <thead>\n",
       "    <tr style=\"text-align: right;\">\n",
       "      <th></th>\n",
       "      <th>CHANNEL_COLOUR</th>\n",
       "      <th>POT_INDEX</th>\n",
       "    </tr>\n",
       "  </thead>\n",
       "  <tbody>\n",
       "    <tr>\n",
       "      <th>3</th>\n",
       "      <td>green</td>\n",
       "      <td>0.0</td>\n",
       "    </tr>\n",
       "    <tr>\n",
       "      <th>10</th>\n",
       "      <td>yellow</td>\n",
       "      <td>0.0</td>\n",
       "    </tr>\n",
       "    <tr>\n",
       "      <th>4</th>\n",
       "      <td>grey</td>\n",
       "      <td>221.0</td>\n",
       "    </tr>\n",
       "    <tr>\n",
       "      <th>1</th>\n",
       "      <td>brown</td>\n",
       "      <td>8351.0</td>\n",
       "    </tr>\n",
       "    <tr>\n",
       "      <th>9</th>\n",
       "      <td>violet</td>\n",
       "      <td>12168.0</td>\n",
       "    </tr>\n",
       "    <tr>\n",
       "      <th>2</th>\n",
       "      <td>cream</td>\n",
       "      <td>13376.0</td>\n",
       "    </tr>\n",
       "    <tr>\n",
       "      <th>5</th>\n",
       "      <td>indigo</td>\n",
       "      <td>15142.0</td>\n",
       "    </tr>\n",
       "    <tr>\n",
       "      <th>6</th>\n",
       "      <td>orange</td>\n",
       "      <td>20175.0</td>\n",
       "    </tr>\n",
       "    <tr>\n",
       "      <th>7</th>\n",
       "      <td>pink</td>\n",
       "      <td>55043.0</td>\n",
       "    </tr>\n",
       "    <tr>\n",
       "      <th>0</th>\n",
       "      <td>blue</td>\n",
       "      <td>93420.0</td>\n",
       "    </tr>\n",
       "    <tr>\n",
       "      <th>8</th>\n",
       "      <td>red</td>\n",
       "      <td>102231.0</td>\n",
       "    </tr>\n",
       "  </tbody>\n",
       "</table>\n",
       "</div>"
      ],
      "text/plain": [
       "   CHANNEL_COLOUR  POT_INDEX\n",
       "3           green        0.0\n",
       "10         yellow        0.0\n",
       "4            grey      221.0\n",
       "1           brown     8351.0\n",
       "9          violet    12168.0\n",
       "2           cream    13376.0\n",
       "5          indigo    15142.0\n",
       "6          orange    20175.0\n",
       "7            pink    55043.0\n",
       "0            blue    93420.0\n",
       "8             red   102231.0"
      ]
     },
     "execution_count": 690,
     "metadata": {},
     "output_type": "execute_result"
    }
   ],
   "source": [
    "channel_sum.sort_values(by = ['POT_INDEX'])"
   ]
  },
  {
   "cell_type": "code",
   "execution_count": 691,
   "metadata": {},
   "outputs": [
    {
     "data": {
      "text/plain": [
       "<matplotlib.axes._subplots.AxesSubplot at 0x1226eb790>"
      ]
     },
     "execution_count": 691,
     "metadata": {},
     "output_type": "execute_result"
    },
    {
     "data": {
      "image/png": "[encoded data removed]",
      "text/plain": [
       "<Figure size 432x288 with 1 Axes>"
      ]
     },
     "metadata": {
      "needs_background": "light"
     },
     "output_type": "display_data"
    }
   ],
   "source": [
    "channel_sum.plot.barh(color='red')"
   ]
  },
  {
   "cell_type": "code",
   "execution_count": 692,
   "metadata": {},
   "outputs": [
    {
     "name": "stdout",
     "output_type": "stream",
     "text": [
      "   CHANNEL_COLOUR  POT_INDEX\n",
      "0            blue    93420.0\n",
      "1           brown     8351.0\n",
      "2           cream    13376.0\n",
      "3           green        0.0\n",
      "4            grey      221.0\n",
      "5          indigo    15142.0\n",
      "6          orange    20175.0\n",
      "7            pink    55043.0\n",
      "8             red   102231.0\n",
      "9          violet    12168.0\n",
      "10         yellow        0.0\n"
     ]
    }
   ],
   "source": [
    "print(channel_sum)"
   ]
  },
  {
   "cell_type": "code",
   "execution_count": 693,
   "metadata": {},
   "outputs": [
    {
     "data": {
      "text/plain": [
       "blue      490\n",
       "red       209\n",
       "cream     135\n",
       "pink      128\n",
       "orange     69\n",
       "violet     61\n",
       "indigo     41\n",
       "brown      37\n",
       "grey       16\n",
       "green       4\n",
       "yellow      1\n",
       "Name: CHANNEL_COLOUR, dtype: int64"
      ]
     },
     "execution_count": 693,
     "metadata": {},
     "output_type": "execute_result"
    }
   ],
   "source": [
    "df['CHANNEL_COLOUR'].value_counts()"
   ]
  },
  {
   "cell_type": "code",
   "execution_count": 694,
   "metadata": {},
   "outputs": [],
   "source": [
    "\n",
    "channel_blue  = df.loc[df[\"CHANNEL_COLOUR\"] == \"blue\", \"POT_INDEX\"]"
   ]
  },
  {
   "cell_type": "code",
   "execution_count": 695,
   "metadata": {},
   "outputs": [],
   "source": [
    "channel_blue = channel_blue.dropna()"
   ]
  },
  {
   "cell_type": "code",
   "execution_count": 696,
   "metadata": {},
   "outputs": [
    {
     "data": {
      "text/plain": [
       "<bound method NDFrame.head of 27       340.0\n",
       "28       437.0\n",
       "35        71.0\n",
       "44        86.0\n",
       "65      2598.0\n",
       "         ...  \n",
       "2854    3855.0\n",
       "3019    1667.0\n",
       "3065     105.0\n",
       "3085     521.0\n",
       "3255     307.0\n",
       "Name: POT_INDEX, Length: 96, dtype: float64>"
      ]
     },
     "execution_count": 696,
     "metadata": {},
     "output_type": "execute_result"
    }
   ],
   "source": [
    "channel_blue.head"
   ]
  },
  {
   "cell_type": "code",
   "execution_count": 783,
   "metadata": {},
   "outputs": [
    {
     "data": {
      "text/plain": [
       "<matplotlib.axes._subplots.AxesSubplot at 0x1a26d9f850>"
      ]
     },
     "execution_count": 783,
     "metadata": {},
     "output_type": "execute_result"
    },
    {
     "data": {
      "image/png": "[encoded data removed]",
      "text/plain": [
       "<Figure size 432x288 with 1 Axes>"
      ]
     },
     "metadata": {
      "needs_background": "light"
     },
     "output_type": "display_data"
    }
   ],
   "source": [
    "channel_blue.plot.hist(log='true')\n",
    "#significant large outliers in this channel - perhaps further investigate characteristics"
   ]
  },
  {
   "cell_type": "code",
   "execution_count": 784,
   "metadata": {},
   "outputs": [
    {
     "data": {
      "text/plain": [
       "<matplotlib.axes._subplots.AxesSubplot at 0x1a26d9fa50>"
      ]
     },
     "execution_count": 784,
     "metadata": {},
     "output_type": "execute_result"
    },
    {
     "data": {
      "image/png": "[encoded data removed]",
      "text/plain": [
       "<Figure size 432x288 with 1 Axes>"
      ]
     },
     "metadata": {
      "needs_background": "light"
     },
     "output_type": "display_data"
    }
   ],
   "source": [
    "channel_red  = df.loc[df[\"CHANNEL_COLOUR\"] == \"red\", \"POT_INDEX\"]\n",
    "channel_red = channel_red.dropna()\n",
    "channel_red.plot.hist(log='true',color='red')"
   ]
  },
  {
   "cell_type": "code",
   "execution_count": 798,
   "metadata": {
    "scrolled": true
   },
   "outputs": [
    {
     "data": {
      "text/plain": [
       "<matplotlib.axes._subplots.AxesSubplot at 0x1a27a8d290>"
      ]
     },
     "execution_count": 798,
     "metadata": {},
     "output_type": "execute_result"
    },
    {
     "data": {
      "image/png": "[encoded data removed]",
      "text/plain": [
       "<Figure size 432x288 with 1 Axes>"
      ]
     },
     "metadata": {
      "needs_background": "light"
     },
     "output_type": "display_data"
    }
   ],
   "source": [
    "channel_cream  = df.loc[df[\"CHANNEL_COLOUR\"] == \"cream\", \"POT_INDEX\"]\n",
    "channel_cream = channel_cream.dropna()\n",
    "channel_cream.plot.hist(log='true', color='peachpuff')"
   ]
  },
  {
   "cell_type": "code",
   "execution_count": 795,
   "metadata": {},
   "outputs": [
    {
     "data": {
      "text/plain": [
       "<matplotlib.axes._subplots.AxesSubplot at 0x1a27485310>"
      ]
     },
     "execution_count": 795,
     "metadata": {},
     "output_type": "execute_result"
    },
    {
     "data": {
      "image/png": "[encoded data removed]",
      "text/plain": [
       "<Figure size 432x288 with 1 Axes>"
      ]
     },
     "metadata": {
      "needs_background": "light"
     },
     "output_type": "display_data"
    }
   ],
   "source": [
    "channel_pink  = df.loc[df[\"CHANNEL_COLOUR\"] == \"pink\", \"POT_INDEX\"]\n",
    "channel_pink = channel_pink.dropna()\n",
    "channel_pink.plot.hist(log='true', color='pink')\n",
    "#significant large outliers in this channel - perhaps further investigate characteristics"
   ]
  },
  {
   "cell_type": "code",
   "execution_count": 701,
   "metadata": {},
   "outputs": [
    {
     "data": {
      "text/plain": [
       "<matplotlib.axes._subplots.AxesSubplot at 0x1a260ba410>"
      ]
     },
     "execution_count": 701,
     "metadata": {},
     "output_type": "execute_result"
    },
    {
     "data": {
      "image/png": "[encoded data removed]",
      "text/plain": [
       "<Figure size 432x288 with 1 Axes>"
      ]
     },
     "metadata": {
      "needs_background": "light"
     },
     "output_type": "display_data"
    }
   ],
   "source": [
    "channel_orange  = df.loc[df[\"CHANNEL_COLOUR\"] == \"orange\", \"POT_INDEX\"]\n",
    "channel_orange = channel_orange.dropna()\n",
    "channel_orange.plot.hist()\n",
    "#significant large outliers in this channel - perhaps further investigate characteristics"
   ]
  },
  {
   "cell_type": "code",
   "execution_count": 702,
   "metadata": {},
   "outputs": [],
   "source": [
    "df_clic = df.loc[(df[\"TYPE\"] == \"CL\") | (df[\"TYPE\"] == \"IC\")]"
   ]
  },
  {
   "cell_type": "code",
   "execution_count": 703,
   "metadata": {},
   "outputs": [
    {
     "data": {
      "text/html": [
       "<div>\n",
       "<style scoped>\n",
       "    .dataframe tbody tr th:only-of-type {\n",
       "        vertical-align: middle;\n",
       "    }\n",
       "\n",
       "    .dataframe tbody tr th {\n",
       "        vertical-align: top;\n",
       "    }\n",
       "\n",
       "    .dataframe thead th {\n",
       "        text-align: right;\n",
       "    }\n",
       "</style>\n",
       "<table border=\"1\" class=\"dataframe\">\n",
       "  <thead>\n",
       "    <tr style=\"text-align: right;\">\n",
       "      <th></th>\n",
       "      <th>UUID</th>\n",
       "      <th>TYPE</th>\n",
       "      <th>TIMESTAMP_IL</th>\n",
       "      <th>Unnamed: 3</th>\n",
       "      <th>TIMESTAMP_CL</th>\n",
       "      <th>TOUCH_TIMESTAMP</th>\n",
       "      <th>CHANNEL_COLOUR</th>\n",
       "      <th>POT_INDEX</th>\n",
       "      <th>IL_CL_SPEED</th>\n",
       "      <th>LAST_TOUCH_SPEED</th>\n",
       "    </tr>\n",
       "  </thead>\n",
       "  <tbody>\n",
       "    <tr>\n",
       "      <th>5</th>\n",
       "      <td>92262960-8937-4dad-b2df-bb7d23089765</td>\n",
       "      <td>IC</td>\n",
       "      <td>2021-01-03</td>\n",
       "      <td>NaN</td>\n",
       "      <td>2021-01-03</td>\n",
       "      <td>2021-01-03</td>\n",
       "      <td>violet</td>\n",
       "      <td>5635.0</td>\n",
       "      <td>128.0</td>\n",
       "      <td>153.0</td>\n",
       "    </tr>\n",
       "    <tr>\n",
       "      <th>7</th>\n",
       "      <td>1451d1c7-a383-4bc9-8fe5-1ad24e4395dd</td>\n",
       "      <td>CL</td>\n",
       "      <td>2021-01-03</td>\n",
       "      <td>NaN</td>\n",
       "      <td>2021-01-03</td>\n",
       "      <td>2021-01-03</td>\n",
       "      <td>blue</td>\n",
       "      <td>NaN</td>\n",
       "      <td>317.0</td>\n",
       "      <td>0.0</td>\n",
       "    </tr>\n",
       "    <tr>\n",
       "      <th>9</th>\n",
       "      <td>cae115f4-c44c-499b-a4b0-2ae46b218d7f</td>\n",
       "      <td>CL</td>\n",
       "      <td>2021-01-03</td>\n",
       "      <td>NaN</td>\n",
       "      <td>2021-01-03</td>\n",
       "      <td>2021-01-03</td>\n",
       "      <td>grey</td>\n",
       "      <td>NaN</td>\n",
       "      <td>586.0</td>\n",
       "      <td>0.0</td>\n",
       "    </tr>\n",
       "    <tr>\n",
       "      <th>10</th>\n",
       "      <td>8f06de9e-be8b-4af4-90df-4e35ab25690a</td>\n",
       "      <td>CL</td>\n",
       "      <td>2021-01-03</td>\n",
       "      <td>NaN</td>\n",
       "      <td>2021-01-03</td>\n",
       "      <td>2021-01-03</td>\n",
       "      <td>blue</td>\n",
       "      <td>NaN</td>\n",
       "      <td>328.0</td>\n",
       "      <td>397.0</td>\n",
       "    </tr>\n",
       "    <tr>\n",
       "      <th>15</th>\n",
       "      <td>de80fb82-bede-46df-aeab-5f9cb1d5e36e</td>\n",
       "      <td>IC</td>\n",
       "      <td>2021-01-03</td>\n",
       "      <td>NaN</td>\n",
       "      <td>2021-02-03</td>\n",
       "      <td>2021-02-03</td>\n",
       "      <td>red</td>\n",
       "      <td>5494.0</td>\n",
       "      <td>81756.0</td>\n",
       "      <td>2646.0</td>\n",
       "    </tr>\n",
       "  </tbody>\n",
       "</table>\n",
       "</div>"
      ],
      "text/plain": [
       "                                    UUID TYPE TIMESTAMP_IL  Unnamed: 3  \\\n",
       "5   92262960-8937-4dad-b2df-bb7d23089765   IC   2021-01-03         NaN   \n",
       "7   1451d1c7-a383-4bc9-8fe5-1ad24e4395dd   CL   2021-01-03         NaN   \n",
       "9   cae115f4-c44c-499b-a4b0-2ae46b218d7f   CL   2021-01-03         NaN   \n",
       "10  8f06de9e-be8b-4af4-90df-4e35ab25690a   CL   2021-01-03         NaN   \n",
       "15  de80fb82-bede-46df-aeab-5f9cb1d5e36e   IC   2021-01-03         NaN   \n",
       "\n",
       "   TIMESTAMP_CL TOUCH_TIMESTAMP CHANNEL_COLOUR  POT_INDEX  IL_CL_SPEED  \\\n",
       "5    2021-01-03      2021-01-03         violet     5635.0        128.0   \n",
       "7    2021-01-03      2021-01-03           blue        NaN        317.0   \n",
       "9    2021-01-03      2021-01-03           grey        NaN        586.0   \n",
       "10   2021-01-03      2021-01-03           blue        NaN        328.0   \n",
       "15   2021-02-03      2021-02-03            red     5494.0      81756.0   \n",
       "\n",
       "    LAST_TOUCH_SPEED  \n",
       "5              153.0  \n",
       "7                0.0  \n",
       "9                0.0  \n",
       "10             397.0  \n",
       "15            2646.0  "
      ]
     },
     "execution_count": 703,
     "metadata": {},
     "output_type": "execute_result"
    }
   ],
   "source": [
    "df_clic.head()"
   ]
  },
  {
   "cell_type": "code",
   "execution_count": 781,
   "metadata": {},
   "outputs": [
    {
     "data": {
      "image/png": "[encoded data removed]",
      "text/plain": [
       "<Figure size 432x288 with 1 Axes>"
      ]
     },
     "metadata": {
      "needs_background": "light"
     },
     "output_type": "display_data"
    }
   ],
   "source": [
    "\n",
    "df_clic[\"IL_CL_SPEED\"].plot.hist(log='true')\n",
    "IL_CL_Hist = df_clic[\"IL_CL_SPEED\"].plot.hist()\n"
   ]
  },
  {
   "cell_type": "code",
   "execution_count": 782,
   "metadata": {
    "scrolled": true
   },
   "outputs": [
    {
     "data": {
      "text/plain": [
       "<matplotlib.axes._subplots.AxesSubplot at 0x1a26b9b210>"
      ]
     },
     "execution_count": 782,
     "metadata": {},
     "output_type": "execute_result"
    },
    {
     "data": {
      "image/png": "[encoded data removed]",
      "text/plain": [
       "<Figure size 432x288 with 1 Axes>"
      ]
     },
     "metadata": {
      "needs_background": "light"
     },
     "output_type": "display_data"
    }
   ],
   "source": [
    "df_clic[\"LAST_TOUCH_SPEED\"].plot.hist(log='true')"
   ]
  },
  {
   "cell_type": "code",
   "execution_count": 706,
   "metadata": {},
   "outputs": [],
   "source": [
    "df_ic = df.loc[(df[\"TYPE\"] == \"IC\")]"
   ]
  },
  {
   "cell_type": "code",
   "execution_count": 707,
   "metadata": {},
   "outputs": [
    {
     "data": {
      "text/plain": [
       "<matplotlib.axes._subplots.AxesSubplot at 0x1a2635f690>"
      ]
     },
     "execution_count": 707,
     "metadata": {},
     "output_type": "execute_result"
    },
    {
     "data": {
      "image/png": "[encoded data removed]",
      "text/plain": [
       "<Figure size 432x288 with 1 Axes>"
      ]
     },
     "metadata": {
      "needs_background": "light"
     },
     "output_type": "display_data"
    }
   ],
   "source": [
    "df_ic[\"LAST_TOUCH_SPEED\"].plot.hist()"
   ]
  },
  {
   "cell_type": "code",
   "execution_count": 708,
   "metadata": {},
   "outputs": [
    {
     "data": {
      "text/plain": [
       "0.07597770181290543"
      ]
     },
     "execution_count": 708,
     "metadata": {},
     "output_type": "execute_result"
    }
   ],
   "source": [
    "df_ic[\"IL_CL_SPEED\"].corr(df_ic[\"POT_INDEX\"])"
   ]
  },
  {
   "cell_type": "code",
   "execution_count": 709,
   "metadata": {},
   "outputs": [],
   "source": [
    "#no relationship between speed of signing up and pot size"
   ]
  },
  {
   "cell_type": "code",
   "execution_count": 710,
   "metadata": {},
   "outputs": [],
   "source": [
    "# still to do \n",
    "# relationship between channel and speed\n",
    "# relationship between pot size and channel\n",
    "# relationship between converting to IC and channel"
   ]
  },
  {
   "cell_type": "code",
   "execution_count": 711,
   "metadata": {},
   "outputs": [],
   "source": [
    "df_ic = pd.concat([df_ic, pd.get_dummies(df_ic['CHANNEL_COLOUR'])], axis=1)"
   ]
  },
  {
   "cell_type": "code",
   "execution_count": 712,
   "metadata": {},
   "outputs": [
    {
     "data": {
      "text/html": [
       "<div>\n",
       "<style scoped>\n",
       "    .dataframe tbody tr th:only-of-type {\n",
       "        vertical-align: middle;\n",
       "    }\n",
       "\n",
       "    .dataframe tbody tr th {\n",
       "        vertical-align: top;\n",
       "    }\n",
       "\n",
       "    .dataframe thead th {\n",
       "        text-align: right;\n",
       "    }\n",
       "</style>\n",
       "<table border=\"1\" class=\"dataframe\">\n",
       "  <thead>\n",
       "    <tr style=\"text-align: right;\">\n",
       "      <th></th>\n",
       "      <th>UUID</th>\n",
       "      <th>TYPE</th>\n",
       "      <th>TIMESTAMP_IL</th>\n",
       "      <th>Unnamed: 3</th>\n",
       "      <th>TIMESTAMP_CL</th>\n",
       "      <th>TOUCH_TIMESTAMP</th>\n",
       "      <th>CHANNEL_COLOUR</th>\n",
       "      <th>POT_INDEX</th>\n",
       "      <th>IL_CL_SPEED</th>\n",
       "      <th>LAST_TOUCH_SPEED</th>\n",
       "      <th>blue</th>\n",
       "      <th>brown</th>\n",
       "      <th>cream</th>\n",
       "      <th>grey</th>\n",
       "      <th>indigo</th>\n",
       "      <th>orange</th>\n",
       "      <th>pink</th>\n",
       "      <th>red</th>\n",
       "      <th>violet</th>\n",
       "    </tr>\n",
       "  </thead>\n",
       "  <tbody>\n",
       "    <tr>\n",
       "      <th>5</th>\n",
       "      <td>92262960-8937-4dad-b2df-bb7d23089765</td>\n",
       "      <td>IC</td>\n",
       "      <td>2021-01-03</td>\n",
       "      <td>NaN</td>\n",
       "      <td>2021-01-03</td>\n",
       "      <td>2021-01-03</td>\n",
       "      <td>violet</td>\n",
       "      <td>5635.0</td>\n",
       "      <td>128.0</td>\n",
       "      <td>153.0</td>\n",
       "      <td>0</td>\n",
       "      <td>0</td>\n",
       "      <td>0</td>\n",
       "      <td>0</td>\n",
       "      <td>0</td>\n",
       "      <td>0</td>\n",
       "      <td>0</td>\n",
       "      <td>0</td>\n",
       "      <td>1</td>\n",
       "    </tr>\n",
       "    <tr>\n",
       "      <th>15</th>\n",
       "      <td>de80fb82-bede-46df-aeab-5f9cb1d5e36e</td>\n",
       "      <td>IC</td>\n",
       "      <td>2021-01-03</td>\n",
       "      <td>NaN</td>\n",
       "      <td>2021-02-03</td>\n",
       "      <td>2021-02-03</td>\n",
       "      <td>red</td>\n",
       "      <td>5494.0</td>\n",
       "      <td>81756.0</td>\n",
       "      <td>2646.0</td>\n",
       "      <td>0</td>\n",
       "      <td>0</td>\n",
       "      <td>0</td>\n",
       "      <td>0</td>\n",
       "      <td>0</td>\n",
       "      <td>0</td>\n",
       "      <td>0</td>\n",
       "      <td>1</td>\n",
       "      <td>0</td>\n",
       "    </tr>\n",
       "    <tr>\n",
       "      <th>16</th>\n",
       "      <td>ec3b6967-248c-447a-ac6e-1ec566af4423</td>\n",
       "      <td>IC</td>\n",
       "      <td>2021-01-03</td>\n",
       "      <td>NaN</td>\n",
       "      <td>2021-02-03</td>\n",
       "      <td>2021-02-03</td>\n",
       "      <td>red</td>\n",
       "      <td>4955.0</td>\n",
       "      <td>81756.0</td>\n",
       "      <td>2646.0</td>\n",
       "      <td>0</td>\n",
       "      <td>0</td>\n",
       "      <td>0</td>\n",
       "      <td>0</td>\n",
       "      <td>0</td>\n",
       "      <td>0</td>\n",
       "      <td>0</td>\n",
       "      <td>1</td>\n",
       "      <td>0</td>\n",
       "    </tr>\n",
       "    <tr>\n",
       "      <th>23</th>\n",
       "      <td>45f37de7-684c-40a0-853e-6ff0b25a08cc</td>\n",
       "      <td>IC</td>\n",
       "      <td>2021-01-03</td>\n",
       "      <td>NaN</td>\n",
       "      <td>2021-01-03</td>\n",
       "      <td>2021-01-03</td>\n",
       "      <td>red</td>\n",
       "      <td>402.0</td>\n",
       "      <td>415.0</td>\n",
       "      <td>539.0</td>\n",
       "      <td>0</td>\n",
       "      <td>0</td>\n",
       "      <td>0</td>\n",
       "      <td>0</td>\n",
       "      <td>0</td>\n",
       "      <td>0</td>\n",
       "      <td>0</td>\n",
       "      <td>1</td>\n",
       "      <td>0</td>\n",
       "    </tr>\n",
       "    <tr>\n",
       "      <th>27</th>\n",
       "      <td>efe307f7-824c-40bb-8070-8ceaaaef7ee6</td>\n",
       "      <td>IC</td>\n",
       "      <td>2021-01-03</td>\n",
       "      <td>NaN</td>\n",
       "      <td>2021-01-03</td>\n",
       "      <td>2021-01-03</td>\n",
       "      <td>blue</td>\n",
       "      <td>340.0</td>\n",
       "      <td>1428.0</td>\n",
       "      <td>0.0</td>\n",
       "      <td>1</td>\n",
       "      <td>0</td>\n",
       "      <td>0</td>\n",
       "      <td>0</td>\n",
       "      <td>0</td>\n",
       "      <td>0</td>\n",
       "      <td>0</td>\n",
       "      <td>0</td>\n",
       "      <td>0</td>\n",
       "    </tr>\n",
       "  </tbody>\n",
       "</table>\n",
       "</div>"
      ],
      "text/plain": [
       "                                    UUID TYPE TIMESTAMP_IL  Unnamed: 3  \\\n",
       "5   92262960-8937-4dad-b2df-bb7d23089765   IC   2021-01-03         NaN   \n",
       "15  de80fb82-bede-46df-aeab-5f9cb1d5e36e   IC   2021-01-03         NaN   \n",
       "16  ec3b6967-248c-447a-ac6e-1ec566af4423   IC   2021-01-03         NaN   \n",
       "23  45f37de7-684c-40a0-853e-6ff0b25a08cc   IC   2021-01-03         NaN   \n",
       "27  efe307f7-824c-40bb-8070-8ceaaaef7ee6   IC   2021-01-03         NaN   \n",
       "\n",
       "   TIMESTAMP_CL TOUCH_TIMESTAMP CHANNEL_COLOUR  POT_INDEX  IL_CL_SPEED  \\\n",
       "5    2021-01-03      2021-01-03         violet     5635.0        128.0   \n",
       "15   2021-02-03      2021-02-03            red     5494.0      81756.0   \n",
       "16   2021-02-03      2021-02-03            red     4955.0      81756.0   \n",
       "23   2021-01-03      2021-01-03            red      402.0        415.0   \n",
       "27   2021-01-03      2021-01-03           blue      340.0       1428.0   \n",
       "\n",
       "    LAST_TOUCH_SPEED  blue  brown  cream  grey  indigo  orange  pink  red  \\\n",
       "5              153.0     0      0      0     0       0       0     0    0   \n",
       "15            2646.0     0      0      0     0       0       0     0    1   \n",
       "16            2646.0     0      0      0     0       0       0     0    1   \n",
       "23             539.0     0      0      0     0       0       0     0    1   \n",
       "27               0.0     1      0      0     0       0       0     0    0   \n",
       "\n",
       "    violet  \n",
       "5        1  \n",
       "15       0  \n",
       "16       0  \n",
       "23       0  \n",
       "27       0  "
      ]
     },
     "execution_count": 712,
     "metadata": {},
     "output_type": "execute_result"
    }
   ],
   "source": [
    "df_ic.head()"
   ]
  },
  {
   "cell_type": "code",
   "execution_count": 713,
   "metadata": {},
   "outputs": [],
   "source": [
    "from sklearn import tree\n",
    "from sklearn.model_selection import train_test_split\n",
    "from sklearn.linear_model import LinearRegression\n"
   ]
  },
  {
   "cell_type": "code",
   "execution_count": 714,
   "metadata": {},
   "outputs": [],
   "source": [
    "Y = df_ic['POT_INDEX']\n",
    "features_df = df_ic[['blue','cream', 'pink', 'red', 'IL_CL_SPEED']]\n",
    "y = Y.values\n",
    "x = features_df.values"
   ]
  },
  {
   "cell_type": "code",
   "execution_count": 715,
   "metadata": {},
   "outputs": [
    {
     "data": {
      "text/plain": [
       "0.02040816326530612"
      ]
     },
     "execution_count": 715,
     "metadata": {},
     "output_type": "execute_result"
    }
   ],
   "source": [
    "X_train, X_test, y_train, y_test = train_test_split(x, y, test_size =0.3, shuffle = True)\n",
    "model_tree = tree.DecisionTreeClassifier(max_depth = 2, max_features = 4)\n",
    "model_tree.fit(X_train, y_train)\n",
    "model_tree.score(X_test, y_test)"
   ]
  },
  {
   "cell_type": "code",
   "execution_count": 716,
   "metadata": {},
   "outputs": [
    {
     "data": {
      "text/plain": [
       "-0.02968701606632629"
      ]
     },
     "execution_count": 716,
     "metadata": {},
     "output_type": "execute_result"
    }
   ],
   "source": [
    "linear_model = LinearRegression().fit(X_train, y_train)\n",
    "linear_model.score(X_test, y_test)"
   ]
  },
  {
   "cell_type": "code",
   "execution_count": 717,
   "metadata": {},
   "outputs": [],
   "source": [
    "# no relationship between pot size and channel and/or speed probably because distribution of pot sizes are fairly\n",
    "# similar across the different channels"
   ]
  },
  {
   "cell_type": "code",
   "execution_count": 718,
   "metadata": {},
   "outputs": [],
   "source": [
    "#next check cl and ic for relationship between channel and conversion \n",
    "#create channel dummies and true/false variable for IC/LC that we want to predict"
   ]
  },
  {
   "cell_type": "code",
   "execution_count": 719,
   "metadata": {},
   "outputs": [],
   "source": [
    "df_clic = pd.concat([df_clic, pd.get_dummies(df_clic['CHANNEL_COLOUR'])], axis=1)"
   ]
  },
  {
   "cell_type": "code",
   "execution_count": 720,
   "metadata": {},
   "outputs": [],
   "source": [
    "def bool(df):\n",
    "    df.loc[df['TYPE']=='IC','BOOL_TYPE'] = True\n",
    "    df['BOOL_TYPE'].fillna(False, inplace=True)\n",
    "bool(df_clic)"
   ]
  },
  {
   "cell_type": "code",
   "execution_count": 765,
   "metadata": {},
   "outputs": [
    {
     "data": {
      "text/plain": [
       "0.7274633123689728"
      ]
     },
     "execution_count": 765,
     "metadata": {},
     "output_type": "execute_result"
    }
   ],
   "source": [
    "Y_clic = df_clic['BOOL_TYPE']\n",
    "features_df_clic = df_clic[['blue','cream', 'pink', 'red', 'indigo', 'yellow', 'grey', 'brown']]\n",
    "y_clic = Y_clic.values\n",
    "x_clic = features_df_clic.values\n",
    "X_clic_train, X_clic_test, y_clic_train, y_clic_test = train_test_split(x_clic, y_clic, test_size =0.4, shuffle = True)\n",
    "model_tree = tree.DecisionTreeClassifier(max_depth = 2, max_features = 4)\n",
    "model_tree.fit(X_clic_train, y_clic_train)\n",
    "model_tree.score(X_clic_test, y_clic_test)"
   ]
  },
  {
   "cell_type": "code",
   "execution_count": 766,
   "metadata": {},
   "outputs": [
    {
     "data": {
      "text/plain": [
       "0.7274633123689728"
      ]
     },
     "execution_count": 766,
     "metadata": {},
     "output_type": "execute_result"
    }
   ],
   "source": [
    "from sklearn.ensemble import RandomForestClassifier\n",
    "model_random = RandomForestClassifier(random_state=5)\n",
    "model_random.fit(X_clic_train, y_clic_train)\n",
    "model_random.score(X_clic_test, y_clic_test)"
   ]
  },
  {
   "cell_type": "code",
   "execution_count": 767,
   "metadata": {},
   "outputs": [
    {
     "data": {
      "text/plain": [
       "0.7274633123689728"
      ]
     },
     "execution_count": 767,
     "metadata": {},
     "output_type": "execute_result"
    }
   ],
   "source": [
    "from sklearn.neural_network import MLPClassifier \n",
    "from sklearn.preprocessing import StandardScaler  \n",
    "scaler = StandardScaler()  \n",
    "scaler.fit(X_clic_train)  \n",
    "X_train_sc = scaler.transform(X_clic_train)  \n",
    "X_test_sc = scaler.transform(X_clic_test) \n",
    "clf = MLPClassifier(solver='lbfgs', alpha=1e-5, hidden_layer_sizes=(10, 2), random_state=0, max_iter=5000) \n",
    "clf.fit(X_train_sc, y_clic_train)\n",
    "clf.score(X_test_sc, y_clic_test)"
   ]
  },
  {
   "cell_type": "code",
   "execution_count": 768,
   "metadata": {},
   "outputs": [],
   "source": [
    "y_tree_pred = clf.predict(X_clic_test)"
   ]
  },
  {
   "cell_type": "code",
   "execution_count": 725,
   "metadata": {},
   "outputs": [],
   "source": [
    "\n",
    "# channel colour predicts conversion to IC quite well but only by predicting all as False! \n",
    "# further inputs may be able to help us to improve this model\n",
    "# however we can calculate the best converter by simply\n",
    "# taking ratio of number of ic and number of touches per channel"
   ]
  },
  {
   "cell_type": "code",
   "execution_count": 726,
   "metadata": {},
   "outputs": [],
   "source": [
    "channel_sum = df_clic['CHANNEL_COLOUR'].value_counts().reset_index(name='channel_occurrence')"
   ]
  },
  {
   "cell_type": "code",
   "execution_count": 727,
   "metadata": {},
   "outputs": [
    {
     "name": "stdout",
     "output_type": "stream",
     "text": [
      "     index  channel_occurrence\n",
      "0     blue                 490\n",
      "1      red                 209\n",
      "2    cream                 135\n",
      "3     pink                 128\n",
      "4   orange                  69\n",
      "5   violet                  61\n",
      "6   indigo                  41\n",
      "7    brown                  37\n",
      "8     grey                  16\n",
      "9    green                   4\n",
      "10  yellow                   1\n"
     ]
    }
   ],
   "source": [
    "print(channel_sum)"
   ]
  },
  {
   "cell_type": "code",
   "execution_count": 728,
   "metadata": {},
   "outputs": [],
   "source": [
    "df_clic['blue_ic'] = (df_clic['TYPE'] == 'IC') & (df_clic['CHANNEL_COLOUR'] == 'blue')\n",
    "blue_conv = df_clic['blue_ic'].sum()/490\n",
    "df_clic['red_ic'] = (df_clic['TYPE'] == 'IC') & (df_clic['CHANNEL_COLOUR'] == 'red')\n",
    "red_conv = df_clic['red_ic'].sum()/209\n",
    "df_clic['cream_ic'] = (df_clic['TYPE'] == 'IC') & (df_clic['CHANNEL_COLOUR'] == 'cream')\n",
    "cream_conv = df_clic['cream_ic'].sum()/135\n",
    "df_clic['pink_ic'] = (df_clic['TYPE'] == 'IC') & (df_clic['CHANNEL_COLOUR'] == 'pink')\n",
    "pink_conv = df_clic['pink_ic'].sum()/128\n",
    "df_clic['orange_ic'] = (df_clic['TYPE'] == 'IC') & (df_clic['CHANNEL_COLOUR'] == 'orange')\n",
    "orange_conv = df_clic['orange_ic'].sum()/69\n",
    "df_clic['violet_ic'] = (df_clic['TYPE'] == 'IC') & (df_clic['CHANNEL_COLOUR'] == 'violet')\n",
    "violet_conv = df_clic['violet_ic'].sum()/61\n",
    "df_clic['indigo_ic'] = (df_clic['TYPE'] == 'IC') & (df_clic['CHANNEL_COLOUR'] == 'indigo')\n",
    "indigo_conv = df_clic['indigo_ic'].sum()/41\n",
    "df_clic['brown_ic'] = (df_clic['TYPE'] == 'IC') & (df_clic['CHANNEL_COLOUR'] == 'brown')\n",
    "brown_conv = df_clic['brown_ic'].sum()/37\n",
    "df_clic['grey_ic'] = (df_clic['TYPE'] == 'IC') & (df_clic['CHANNEL_COLOUR'] == 'grey')\n",
    "grey_conv = df_clic['grey_ic'].sum()/16"
   ]
  },
  {
   "cell_type": "code",
   "execution_count": 774,
   "metadata": {},
   "outputs": [
    {
     "name": "stdout",
     "output_type": "stream",
     "text": [
      "blue:  0.19591836734693877 red:  0.4258373205741627 cream:  0.2740740740740741 pink:  0.3203125 orange:  0.36231884057971014 violet:  0.2459016393442623 indigo:  0.36585365853658536 brown:  0.16216216216216217 grey:  0.125\n"
     ]
    }
   ],
   "source": [
    "print('blue: ',blue_conv, 'red: ',red_conv, 'cream: ', cream_conv,'pink: ', pink_conv,'orange: ', orange_conv,'violet: ', violet_conv,'indigo: ', indigo_conv, 'brown: ', brown_conv, 'grey: ', grey_conv)"
   ]
  },
  {
   "cell_type": "code",
   "execution_count": 730,
   "metadata": {},
   "outputs": [],
   "source": [
    "#red channel is the best converter followed by orange and indigo"
   ]
  },
  {
   "cell_type": "code",
   "execution_count": 731,
   "metadata": {},
   "outputs": [],
   "source": [
    "#try to predict potsize again with CL's and IC's to see whether we have a relationship across this bigger set\n",
    "# need to turn potsize NaN into 0 first"
   ]
  },
  {
   "cell_type": "code",
   "execution_count": 732,
   "metadata": {},
   "outputs": [],
   "source": [
    "df_clic['POT_INDEX_0'] = df_clic['POT_INDEX'].fillna(0)"
   ]
  },
  {
   "cell_type": "code",
   "execution_count": 733,
   "metadata": {},
   "outputs": [
    {
     "data": {
      "text/plain": [
       "-0.04407245128427317"
      ]
     },
     "execution_count": 733,
     "metadata": {},
     "output_type": "execute_result"
    }
   ],
   "source": [
    "Y_clic = df_clic['POT_INDEX_0']\n",
    "features_df_clic = df_clic[['blue','cream', 'pink', 'red', 'indigo','brown', 'orange', 'grey','green', 'yellow','IL_CL_SPEED', 'LAST_TOUCH_SPEED']]\n",
    "y_clic = Y_clic.values\n",
    "x_clic = features_df_clic.values\n",
    "X_clic_train, X_clic_test, y_clic_train, y_clic_test = train_test_split(x_clic, y_clic, test_size =0.3, shuffle = True)\n",
    "linear_model = LinearRegression().fit(X_clic_train, y_clic_train)\n",
    "linear_model.score(X_clic_test, y_clic_test)"
   ]
  },
  {
   "cell_type": "code",
   "execution_count": 734,
   "metadata": {},
   "outputs": [],
   "source": [
    "# conclude that there's no reationship between potsize and channel colour\n",
    "# I want to try some oversampling to improve the classifications"
   ]
  },
  {
   "cell_type": "code",
   "execution_count": 799,
   "metadata": {},
   "outputs": [],
   "source": [
    "from imblearn.over_sampling import SMOTE\n",
    "sm = SMOTE(random_state = 2) "
   ]
  },
  {
   "cell_type": "code",
   "execution_count": 802,
   "metadata": {},
   "outputs": [
    {
     "name": "stdout",
     "output_type": "stream",
     "text": [
      "518\n",
      "196\n"
     ]
    }
   ],
   "source": [
    "print(sum(y_clic_train == False ))\n",
    "print(sum(y_clic_train == True))"
   ]
  },
  {
   "cell_type": "code",
   "execution_count": 803,
   "metadata": {},
   "outputs": [],
   "source": [
    "X_clic_train_reb, y_clic_train_reb = sm.fit_sample(X_clic_train, y_clic_train)"
   ]
  },
  {
   "cell_type": "code",
   "execution_count": 806,
   "metadata": {},
   "outputs": [
    {
     "data": {
      "text/plain": [
       "DecisionTreeClassifier(max_depth=10, max_features=4)"
      ]
     },
     "execution_count": 806,
     "metadata": {},
     "output_type": "execute_result"
    }
   ],
   "source": [
    "model_tree = tree.DecisionTreeClassifier(max_depth = 10, max_features = 4)\n",
    "model_tree.fit(X_clic_train_reb, y_clic_train_reb)\n"
   ]
  },
  {
   "cell_type": "code",
   "execution_count": 810,
   "metadata": {},
   "outputs": [
    {
     "name": "stdout",
     "output_type": "stream",
     "text": [
      "              precision    recall  f1-score   support\n",
      "\n",
      "          CL       0.77      0.60      0.67       347\n",
      "          IC       0.33      0.53      0.41       130\n",
      "\n",
      "    accuracy                           0.58       477\n",
      "   macro avg       0.55      0.56      0.54       477\n",
      "weighted avg       0.65      0.58      0.60       477\n",
      "\n"
     ]
    }
   ],
   "source": [
    "from sklearn import metrics\n",
    "classification_report = metrics.classification_report\n",
    "y_clic_reb_pred = model_tree.predict(X_clic_test)\n",
    "target_names = ['CL', 'IC']\n",
    "print(classification_report(y_clic_test, y_clic_reb_pred,target_names=target_names))"
   ]
  },
  {
   "cell_type": "code",
   "execution_count": 811,
   "metadata": {},
   "outputs": [
    {
     "name": "stdout",
     "output_type": "stream",
     "text": [
      "              precision    recall  f1-score   support\n",
      "\n",
      "          CL       0.75      0.71      0.73       347\n",
      "          IC       0.32      0.36      0.34       130\n",
      "\n",
      "    accuracy                           0.61       477\n",
      "   macro avg       0.53      0.53      0.53       477\n",
      "weighted avg       0.63      0.61      0.62       477\n",
      "\n"
     ]
    }
   ],
   "source": [
    "scaler.fit(X_clic_train_reb)  \n",
    "X_train_sc = scaler.transform(X_clic_train_reb)  \n",
    "X_test_sc = scaler.transform(X_clic_test) \n",
    "clf = MLPClassifier(solver='lbfgs', alpha=1e-5, hidden_layer_sizes=(10, 2), random_state=0, max_iter=5000) \n",
    "clf.fit(X_train_sc, y_clic_train_reb)\n",
    "y_clic_reb_pred = clf.predict(X_clic_test)\n",
    "target_names = ['CL', 'IC']\n",
    "print(classification_report(y_clic_test, y_clic_reb_pred,target_names=target_names))"
   ]
  },
  {
   "cell_type": "code",
   "execution_count": 812,
   "metadata": {},
   "outputs": [
    {
     "name": "stdout",
     "output_type": "stream",
     "text": [
      "              precision    recall  f1-score   support\n",
      "\n",
      "          CL       0.77      0.60      0.67       347\n",
      "          IC       0.33      0.53      0.41       130\n",
      "\n",
      "    accuracy                           0.58       477\n",
      "   macro avg       0.55      0.56      0.54       477\n",
      "weighted avg       0.65      0.58      0.60       477\n",
      "\n"
     ]
    }
   ],
   "source": [
    "from sklearn.ensemble import GradientBoostingClassifier\n",
    "model_GB = GradientBoostingClassifier(n_estimators=1000)\n",
    "model_GB.fit(X_clic_train_reb, y_clic_train_reb)\n",
    "y_clic_reb_pred = model_GB.predict(X_clic_test)\n",
    "target_names = ['CL', 'IC']\n",
    "print(classification_report(y_clic_test, y_clic_reb_pred,target_names=target_names))"
   ]
  },
  {
   "cell_type": "code",
   "execution_count": 815,
   "metadata": {},
   "outputs": [],
   "source": [
    "# oversampling significantly improves the performance of the predictor\n",
    "# we have more non conversions than conversions so the models try and get the best result by just predicting\n",
    "# false values artificially increasing the number of cl's for the training counters this tendency"
   ]
  },
  {
   "cell_type": "code",
   "execution_count": null,
   "metadata": {},
   "outputs": [],
   "source": []
  }
 ],
 "metadata": {
  "kernelspec": {
   "display_name": "Python 3",
   "language": "python",
   "name": "python3"
  },
  "language_info": {
   "codemirror_mode": {
    "name": "ipython",
    "version": 3
   },
   "file_extension": ".py",
   "mimetype": "text/x-python",
   "name": "python",
   "nbconvert_exporter": "python",
   "pygments_lexer": "ipython3",
   "version": "3.7.7"
  }
 },
 "nbformat": 4,
 "nbformat_minor": 4
}
